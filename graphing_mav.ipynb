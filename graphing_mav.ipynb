{
 "cells": [
  {
   "cell_type": "code",
   "execution_count": 8,
   "metadata": {},
   "outputs": [],
   "source": [
    "import pandas as pd\n",
    "import numpy as np\n",
    "from matplotlib import pyplot as plt"
   ]
  },
  {
   "cell_type": "code",
   "execution_count": 9,
   "metadata": {},
   "outputs": [
    {
     "name": "stderr",
     "output_type": "stream",
     "text": [
      "C:\\Users\\aymer\\AppData\\Local\\Temp\\ipykernel_31388\\1494139973.py:4: DtypeWarning: Columns (3,11,27) have mixed types. Specify dtype option on import or set low_memory=False.\n",
      "  df = pd.read_csv('10_20_24/mav.csv', header=None, on_bad_lines='skip')\n"
     ]
    },
    {
     "name": "stdout",
     "output_type": "stream",
     "text": [
      "                             0   1   2  3   4   5   6   7       8   \\\n",
      "32785   2024-10-20T13:08:45.473  FD  1D  0   0   E   1   1      1B   \n",
      "32786   2024-10-20T13:08:45.473  FD  18  0   0   F   1   1      74   \n",
      "32787   2024-10-20T13:08:45.473  FD  18  0   0  10   1   1      81   \n",
      "32807   2024-10-20T13:08:45.654  FD  1D  0   0  26   1   1      1B   \n",
      "32808   2024-10-20T13:08:45.654  FD  18  0   0  27   1   1      74   \n",
      "...                         ...  ..  .. ..  ..  ..  ..  ..     ...   \n",
      "145358  2024-10-20T13:31:02.627  FD  18  0   0  7D   1   1      74   \n",
      "145359  2024-10-20T13:31:02.627  FD  18  0   0  7E   1   1      81   \n",
      "145384  2024-10-20T13:31:02.866  FD  1D  0   0  97   1   1      1B   \n",
      "145385  2024-10-20T13:31:02.866  FD  18  0   0  98   1   1      74   \n",
      "145386  2024-10-20T13:31:02.867  FD  18  0   0  99   1   1      81   \n",
      "\n",
      "                           9   ...     18   19     20    21     22   23    24  \\\n",
      "32785       mavlink_raw_imu_t  ...  xgyro   35  ygyro    66  zgyro   43  xmag   \n",
      "32786   mavlink_scaled_imu2_t  ...  xgyro   10  ygyro    78  zgyro  150  xmag   \n",
      "32787   mavlink_scaled_imu3_t  ...  xgyro   11  ygyro    65  zgyro   40  xmag   \n",
      "32807       mavlink_raw_imu_t  ...  xgyro  -74  ygyro   123  zgyro   79  xmag   \n",
      "32808   mavlink_scaled_imu2_t  ...  xgyro  -91  ygyro   129  zgyro  192  xmag   \n",
      "...                       ...  ...    ...  ...    ...   ...    ...  ...   ...   \n",
      "145358  mavlink_scaled_imu2_t  ...  xgyro  -77  ygyro  -103  zgyro  168  xmag   \n",
      "145359  mavlink_scaled_imu3_t  ...  xgyro  -68  ygyro   -82  zgyro   24  xmag   \n",
      "145384      mavlink_raw_imu_t  ...  xgyro   26  ygyro   -66  zgyro    9  xmag   \n",
      "145385  mavlink_scaled_imu2_t  ...  xgyro    2  ygyro   -76  zgyro  147  xmag   \n",
      "145386  mavlink_scaled_imu3_t  ...  xgyro    5  ygyro   -64  zgyro    6  xmag   \n",
      "\n",
      "          25    26     27  \n",
      "32785    -69  ymag   66.0  \n",
      "32786    428  ymag -119.0  \n",
      "32787      0  ymag    0.0  \n",
      "32807    -69  ymag   72.0  \n",
      "32808    418  ymag -114.0  \n",
      "...      ...   ...    ...  \n",
      "145358   367  ymag   -328  \n",
      "145359     0  ymag      0  \n",
      "145384  -200  ymag   -140  \n",
      "145385   367  ymag   -326  \n",
      "145386     0  ymag      0  \n",
      "\n",
      "[10029 rows x 28 columns]\n"
     ]
    }
   ],
   "source": [
    "import pandas as pd\n",
    "\n",
    "# Read the CSV file, skipping problematic lines\n",
    "df = pd.read_csv('10_20_24/mav.csv', header=None, on_bad_lines='skip')\n",
    "\n",
    "# Filter rows that contain the string 'imu'\n",
    "filtered_df = df[df.apply(lambda row: row.astype(str).str.contains('imu').any(), axis=1)]\n",
    "\n",
    "# Display the filtered rows\n",
    "print(filtered_df)\n",
    "\n",
    "# Optionally, save the filtered rows to a new CSV file\n",
    "filtered_df.to_csv('filtered_mav.csv', index=False, header=False)"
   ]
  },
  {
   "cell_type": "code",
   "execution_count": 15,
   "metadata": {},
   "outputs": [
    {
     "name": "stderr",
     "output_type": "stream",
     "text": [
      "C:\\Users\\aymer\\AppData\\Local\\Temp\\ipykernel_31388\\545594556.py:5: DtypeWarning: Columns (3,11,27) have mixed types. Specify dtype option on import or set low_memory=False.\n",
      "  df = pd.read_csv('10_20_24/mav.csv', header=None, on_bad_lines='skip')\n"
     ]
    },
    {
     "name": "stdout",
     "output_type": "stream",
     "text": [
      "                        field0 field1 field2 field3  field4 field5 field6  \\\n",
      "32785  2024-10-20T13:08:45.473     FD     1D      0       0      E      1   \n",
      "32807  2024-10-20T13:08:45.654     FD     1D      0       0     26      1   \n",
      "32830  2024-10-20T13:08:45.894     FD     1D      0       0     3F      1   \n",
      "32853  2024-10-20T13:08:46.153     FD     1D      0       0     57      1   \n",
      "32877  2024-10-20T13:08:46.435     FD     1D      0       0     71      1   \n",
      "\n",
      "      field7  field8             field9  ... field18 field19 field20 field21  \\\n",
      "32785      1      1B  mavlink_raw_imu_t  ...   xgyro      35   ygyro      66   \n",
      "32807      1      1B  mavlink_raw_imu_t  ...   xgyro     -74   ygyro     123   \n",
      "32830      1      1B  mavlink_raw_imu_t  ...   xgyro      46   ygyro    -132   \n",
      "32853      1      1B  mavlink_raw_imu_t  ...   xgyro    -128   ygyro      25   \n",
      "32877      1      1B  mavlink_raw_imu_t  ...   xgyro     -79   ygyro      -8   \n",
      "\n",
      "      field22 field23 field24 field25 field26 field27  \n",
      "32785   zgyro      43    xmag     -69    ymag    66.0  \n",
      "32807   zgyro      79    xmag     -69    ymag    72.0  \n",
      "32830   zgyro     -69    xmag     -78    ymag    65.0  \n",
      "32853   zgyro    -174    xmag     -77    ymag    68.0  \n",
      "32877   zgyro     -27    xmag     -76    ymag    65.0  \n",
      "\n",
      "[5 rows x 28 columns]\n",
      "32785    NaN\n",
      "32807    NaN\n",
      "32830    NaN\n",
      "32853    NaN\n",
      "32877    NaN\n",
      "          ..\n",
      "145282   NaN\n",
      "145307   NaN\n",
      "145332   NaN\n",
      "145357   NaN\n",
      "145384   NaN\n",
      "Name: time_usec, Length: 3343, dtype: float64\n"
     ]
    },
    {
     "name": "stderr",
     "output_type": "stream",
     "text": [
      "C:\\Users\\aymer\\AppData\\Local\\Temp\\ipykernel_31388\\545594556.py:20: SettingWithCopyWarning: \n",
      "A value is trying to be set on a copy of a slice from a DataFrame.\n",
      "Try using .loc[row_indexer,col_indexer] = value instead\n",
      "\n",
      "See the caveats in the documentation: https://pandas.pydata.org/pandas-docs/stable/user_guide/indexing.html#returning-a-view-versus-a-copy\n",
      "  imu_data['time_usec'] = pd.to_numeric(imu_data['field12'], errors='coerce')\n",
      "C:\\Users\\aymer\\AppData\\Local\\Temp\\ipykernel_31388\\545594556.py:21: SettingWithCopyWarning: \n",
      "A value is trying to be set on a copy of a slice from a DataFrame.\n",
      "Try using .loc[row_indexer,col_indexer] = value instead\n",
      "\n",
      "See the caveats in the documentation: https://pandas.pydata.org/pandas-docs/stable/user_guide/indexing.html#returning-a-view-versus-a-copy\n",
      "  imu_data['xacc'] = pd.to_numeric(imu_data['field15'], errors='coerce')\n",
      "C:\\Users\\aymer\\AppData\\Local\\Temp\\ipykernel_31388\\545594556.py:22: SettingWithCopyWarning: \n",
      "A value is trying to be set on a copy of a slice from a DataFrame.\n",
      "Try using .loc[row_indexer,col_indexer] = value instead\n",
      "\n",
      "See the caveats in the documentation: https://pandas.pydata.org/pandas-docs/stable/user_guide/indexing.html#returning-a-view-versus-a-copy\n",
      "  imu_data['yacc'] = pd.to_numeric(imu_data['field17'], errors='coerce')\n",
      "C:\\Users\\aymer\\AppData\\Local\\Temp\\ipykernel_31388\\545594556.py:23: SettingWithCopyWarning: \n",
      "A value is trying to be set on a copy of a slice from a DataFrame.\n",
      "Try using .loc[row_indexer,col_indexer] = value instead\n",
      "\n",
      "See the caveats in the documentation: https://pandas.pydata.org/pandas-docs/stable/user_guide/indexing.html#returning-a-view-versus-a-copy\n",
      "  imu_data['zacc'] = pd.to_numeric(imu_data['field19'], errors='coerce')\n"
     ]
    },
    {
     "data": {
      "image/png": "[encoded data removed]",
      "text/plain": [
       "<Figure size 1000x600 with 1 Axes>"
      ]
     },
     "metadata": {},
     "output_type": "display_data"
    },
    {
     "ename": "",
     "evalue": "",
     "output_type": "error",
     "traceback": [
      "\u001b[1;31mThe Kernel crashed while executing code in the current cell or a previous cell. \n",
      "\u001b[1;31mPlease review the code in the cell(s) to identify a possible cause of the failure. \n",
      "\u001b[1;31mClick <a href='https://aka.ms/vscodeJupyterKernelCrash'>here</a> for more info. \n",
      "\u001b[1;31mView Jupyter <a href='command:jupyter.viewOutput'>log</a> for further details."
     ]
    }
   ],
   "source": [
    "import pandas as pd\n",
    "import matplotlib.pyplot as plt\n",
    "\n",
    "# Read the CSV file, skipping problematic lines\n",
    "df = pd.read_csv('10_20_24/mav.csv', header=None, on_bad_lines='skip')\n",
    "\n",
    "# Filter rows that contain the string 'imu'\n",
    "filtered_df = df[df.apply(lambda row: row.astype(str).str.contains('imu').any(), axis=1)]\n",
    "\n",
    "# Extract accelerometer data for each IMU\n",
    "imu_data = filtered_df[filtered_df.apply(lambda row: 'mavlink_raw_imu_t' in row.astype(str).values, axis=1)]\n",
    "\n",
    "# Dynamically generate column names based on the number of columns in the DataFrame\n",
    "num_columns = imu_data.shape[1]\n",
    "column_names = [f'field{i}' for i in range(num_columns)]\n",
    "imu_data.columns = column_names\n",
    "print(imu_data.head())\n",
    "\n",
    "# Convert relevant columns to numeric\n",
    "imu_data['time_usec'] = pd.to_numeric(imu_data['field12'], errors='coerce')\n",
    "imu_data['xacc'] = pd.to_numeric(imu_data['field15'], errors='coerce')\n",
    "imu_data['yacc'] = pd.to_numeric(imu_data['field17'], errors='coerce')\n",
    "imu_data['zacc'] = pd.to_numeric(imu_data['field19'], errors='coerce')\n",
    "\n",
    "# Plot the accelerometer data\n",
    "plt.figure(figsize=(10, 6))\n",
    "\n",
    "plt.plot(imu_data['time_usec'], imu_data['xacc'], label='xacc')\n",
    "plt.plot(imu_data['time_usec'], imu_data['yacc'], label='yacc')\n",
    "plt.plot(imu_data['time_usec'], imu_data['zacc'], label='zacc')\n",
    "print(imu_data['time_usec'])\n",
    "\n",
    "plt.title('Accelerometer Data for All IMUs')\n",
    "plt.xlabel('Time (usec)')\n",
    "plt.ylabel('Acceleration (mg)')\n",
    "plt.legend()\n",
    "plt.show()"
   ]
  }
 ],
 "metadata": {
  "kernelspec": {
   "display_name": "Python 3",
   "language": "python",
   "name": "python3"
  },
  "language_info": {
   "codemirror_mode": {
    "name": "ipython",
    "version": 3
   },
   "file_extension": ".py",
   "mimetype": "text/x-python",
   "name": "python",
   "nbconvert_exporter": "python",
   "pygments_lexer": "ipython3",
   "version": "3.10.11"
  }
 },
 "nbformat": 4,
 "nbformat_minor": 2
}
